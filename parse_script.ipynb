{
  "nbformat": 4,
  "nbformat_minor": 0,
  "metadata": {
    "colab": {
      "name": "parse_script.ipynb",
      "provenance": []
    },
    "kernelspec": {
      "name": "python3",
      "display_name": "Python 3"
    },
    "language_info": {
      "name": "python"
    }
  },
  "cells": [
    {
      "cell_type": "code",
      "execution_count": null,
      "metadata": {
        "colab": {
          "base_uri": "https://localhost:8080/"
        },
        "id": "S85hkLwIMCeq",
        "outputId": "5be6b3f4-1681-46b0-8379-198995461487"
      },
      "outputs": [
        {
          "output_type": "stream",
          "name": "stdout",
          "text": [
            "Drive already mounted at /content/drive/; to attempt to forcibly remount, call drive.mount(\"/content/drive/\", force_remount=True).\n"
          ]
        }
      ],
      "source": [
        "from google.colab import drive\n",
        "drive.mount('/content/drive/')"
      ]
    },
    {
      "cell_type": "code",
      "source": [
        "import os\n",
        "os.chdir('/content/drive/My Drive/HuTao Bot')"
      ],
      "metadata": {
        "id": "YJpVIKTNNRx8"
      },
      "execution_count": null,
      "outputs": []
    },
    {
      "cell_type": "code",
      "source": [
        "!ls"
      ],
      "metadata": {
        "colab": {
          "base_uri": "https://localhost:8080/"
        },
        "id": "JBgZkM_3rFft",
        "outputId": "8f9c3b99-1f8d-4061-fea6-d03078de489d"
      },
      "execution_count": null,
      "outputs": [
        {
          "output_type": "stream",
          "name": "stdout",
          "text": [
            "Hu_Tao_quotes.txt\n"
          ]
        }
      ]
    },
    {
      "cell_type": "code",
      "source": [
        "import re\n",
        "import pandas as pd"
      ],
      "metadata": {
        "id": "KuKMaajur432"
      },
      "execution_count": null,
      "outputs": []
    },
    {
      "cell_type": "code",
      "source": [
        "pattern = r'([a-zA-Z\\s]+):(.+)'"
      ],
      "metadata": {
        "id": "9NDgNrjp54HF"
      },
      "execution_count": null,
      "outputs": []
    },
    {
      "cell_type": "code",
      "source": [
        "data = {\n",
        "    'name': [],\n",
        "    'line': []\n",
        "}"
      ],
      "metadata": {
        "id": "Im4Asb_r6Hs6"
      },
      "execution_count": null,
      "outputs": []
    },
    {
      "cell_type": "code",
      "source": [
        "with open('Hu_Tao_quotes.txt', 'rt') as file:\n",
        "  for line in file.readlines():\n",
        "    match = re.findall(pattern, line)\n",
        "    if match:\n",
        "      name, line = match[0]\n",
        "      data['name'].append(name)\n",
        "      data['line'].append(line)"
      ],
      "metadata": {
        "id": "OA-VcaXB6RwO"
      },
      "execution_count": null,
      "outputs": []
    },
    {
      "cell_type": "code",
      "source": [
        "df = pd.DataFrame(data)"
      ],
      "metadata": {
        "id": "K6CCExn0DTRT"
      },
      "execution_count": null,
      "outputs": []
    },
    {
      "cell_type": "code",
      "source": [
        "df.head()"
      ],
      "metadata": {
        "id": "V0vMg3ogDnmJ",
        "colab": {
          "base_uri": "https://localhost:8080/",
          "height": 255
        },
        "outputId": "ea00dd18-799a-4d35-a195-39a62cd6a752"
      },
      "execution_count": null,
      "outputs": [
        {
          "output_type": "execute_result",
          "data": {
            "text/plain": [
              "                            0                                         1    \\\n",
              "name                     Hu Tao                                    Hu Tao   \n",
              "line   Wanna come over for tea?   One client, two clients, three clients!   \n",
              "\n",
              "                             2    \\\n",
              "name                      Hu Tao   \n",
              "line   Yo! Afternoon! Had lunch?   \n",
              "\n",
              "                                                    3    \\\n",
              "name                                             Hu Tao   \n",
              "line   When the sun's out, bathe in sunlight. But wh...   \n",
              "\n",
              "                           4    \\\n",
              "name                    Hu Tao   \n",
              "line   *sigh* What a bummer...   \n",
              "\n",
              "                                                    5    \\\n",
              "name                                             Hu Tao   \n",
              "line   Well are those who rise in the early morn, wh...   \n",
              "\n",
              "                                                    6    \\\n",
              "name                                             Hu Tao   \n",
              "line   Oh, you sleepy? Get some rest, I'm gonna take...   \n",
              "\n",
              "                                                    7    \\\n",
              "name                                             Hu Tao   \n",
              "line   Hu as in \"Who put me in this coffin?\" and Tao...   \n",
              "\n",
              "                                                    8    \\\n",
              "name                                             Hu Tao   \n",
              "line   Run around all you like during the day, but y...   \n",
              "\n",
              "                                                    9    ...  \\\n",
              "name                                             Hu Tao  ...   \n",
              "line   Need a hand, need a hand? I'm here! If you ne...  ...   \n",
              "\n",
              "                           318                     319  \\\n",
              "name                      None                    None   \n",
              "line   Did you just say arson.   *loud rapping noises*   \n",
              "\n",
              "                          320  \\\n",
              "name                     None   \n",
              "line   Today I am evil again.   \n",
              "\n",
              "                                                    321  \\\n",
              "name                                               None   \n",
              "line   The best part of an oreo is the black cookie ...   \n",
              "\n",
              "                             322                                          323  \\\n",
              "name                        None                                         None   \n",
              "line   Just woke up, swag is on.   I'll be accepting apologies rn (cash only)   \n",
              "\n",
              "                                                    324  \\\n",
              "name                                               None   \n",
              "line   Ah dont mind me traveler, I was just thinking...   \n",
              "\n",
              "                                                    325  \\\n",
              "name                                               None   \n",
              "line   One time Childe called me and said \"Hello is ...   \n",
              "\n",
              "                                                    326  \\\n",
              "name                                               None   \n",
              "line   Xiao is cool and all but can he summon a litt...   \n",
              "\n",
              "                             327  \n",
              "name                        None  \n",
              "line   Time to teach you crimes!  \n",
              "\n",
              "[2 rows x 328 columns]"
            ],
            "text/html": [
              "\n",
              "  <div id=\"df-4f477566-6436-443c-bf2e-9fc5f502b17f\">\n",
              "    <div class=\"colab-df-container\">\n",
              "      <div>\n",
              "<style scoped>\n",
              "    .dataframe tbody tr th:only-of-type {\n",
              "        vertical-align: middle;\n",
              "    }\n",
              "\n",
              "    .dataframe tbody tr th {\n",
              "        vertical-align: top;\n",
              "    }\n",
              "\n",
              "    .dataframe thead th {\n",
              "        text-align: right;\n",
              "    }\n",
              "</style>\n",
              "<table border=\"1\" class=\"dataframe\">\n",
              "  <thead>\n",
              "    <tr style=\"text-align: right;\">\n",
              "      <th></th>\n",
              "      <th>0</th>\n",
              "      <th>1</th>\n",
              "      <th>2</th>\n",
              "      <th>3</th>\n",
              "      <th>4</th>\n",
              "      <th>5</th>\n",
              "      <th>6</th>\n",
              "      <th>7</th>\n",
              "      <th>8</th>\n",
              "      <th>9</th>\n",
              "      <th>...</th>\n",
              "      <th>318</th>\n",
              "      <th>319</th>\n",
              "      <th>320</th>\n",
              "      <th>321</th>\n",
              "      <th>322</th>\n",
              "      <th>323</th>\n",
              "      <th>324</th>\n",
              "      <th>325</th>\n",
              "      <th>326</th>\n",
              "      <th>327</th>\n",
              "    </tr>\n",
              "  </thead>\n",
              "  <tbody>\n",
              "    <tr>\n",
              "      <th>name</th>\n",
              "      <td>Hu Tao</td>\n",
              "      <td>Hu Tao</td>\n",
              "      <td>Hu Tao</td>\n",
              "      <td>Hu Tao</td>\n",
              "      <td>Hu Tao</td>\n",
              "      <td>Hu Tao</td>\n",
              "      <td>Hu Tao</td>\n",
              "      <td>Hu Tao</td>\n",
              "      <td>Hu Tao</td>\n",
              "      <td>Hu Tao</td>\n",
              "      <td>...</td>\n",
              "      <td>None</td>\n",
              "      <td>None</td>\n",
              "      <td>None</td>\n",
              "      <td>None</td>\n",
              "      <td>None</td>\n",
              "      <td>None</td>\n",
              "      <td>None</td>\n",
              "      <td>None</td>\n",
              "      <td>None</td>\n",
              "      <td>None</td>\n",
              "    </tr>\n",
              "    <tr>\n",
              "      <th>line</th>\n",
              "      <td>Wanna come over for tea?</td>\n",
              "      <td>One client, two clients, three clients!</td>\n",
              "      <td>Yo! Afternoon! Had lunch?</td>\n",
              "      <td>When the sun's out, bathe in sunlight. But wh...</td>\n",
              "      <td>*sigh* What a bummer...</td>\n",
              "      <td>Well are those who rise in the early morn, wh...</td>\n",
              "      <td>Oh, you sleepy? Get some rest, I'm gonna take...</td>\n",
              "      <td>Hu as in \"Who put me in this coffin?\" and Tao...</td>\n",
              "      <td>Run around all you like during the day, but y...</td>\n",
              "      <td>Need a hand, need a hand? I'm here! If you ne...</td>\n",
              "      <td>...</td>\n",
              "      <td>Did you just say arson.</td>\n",
              "      <td>*loud rapping noises*</td>\n",
              "      <td>Today I am evil again.</td>\n",
              "      <td>The best part of an oreo is the black cookie ...</td>\n",
              "      <td>Just woke up, swag is on.</td>\n",
              "      <td>I'll be accepting apologies rn (cash only)</td>\n",
              "      <td>Ah dont mind me traveler, I was just thinking...</td>\n",
              "      <td>One time Childe called me and said \"Hello is ...</td>\n",
              "      <td>Xiao is cool and all but can he summon a litt...</td>\n",
              "      <td>Time to teach you crimes!</td>\n",
              "    </tr>\n",
              "  </tbody>\n",
              "</table>\n",
              "<p>2 rows × 328 columns</p>\n",
              "</div>\n",
              "      <button class=\"colab-df-convert\" onclick=\"convertToInteractive('df-4f477566-6436-443c-bf2e-9fc5f502b17f')\"\n",
              "              title=\"Convert this dataframe to an interactive table.\"\n",
              "              style=\"display:none;\">\n",
              "        \n",
              "  <svg xmlns=\"http://www.w3.org/2000/svg\" height=\"24px\"viewBox=\"0 0 24 24\"\n",
              "       width=\"24px\">\n",
              "    <path d=\"M0 0h24v24H0V0z\" fill=\"none\"/>\n",
              "    <path d=\"M18.56 5.44l.94 2.06.94-2.06 2.06-.94-2.06-.94-.94-2.06-.94 2.06-2.06.94zm-11 1L8.5 8.5l.94-2.06 2.06-.94-2.06-.94L8.5 2.5l-.94 2.06-2.06.94zm10 10l.94 2.06.94-2.06 2.06-.94-2.06-.94-.94-2.06-.94 2.06-2.06.94z\"/><path d=\"M17.41 7.96l-1.37-1.37c-.4-.4-.92-.59-1.43-.59-.52 0-1.04.2-1.43.59L10.3 9.45l-7.72 7.72c-.78.78-.78 2.05 0 2.83L4 21.41c.39.39.9.59 1.41.59.51 0 1.02-.2 1.41-.59l7.78-7.78 2.81-2.81c.8-.78.8-2.07 0-2.86zM5.41 20L4 18.59l7.72-7.72 1.47 1.35L5.41 20z\"/>\n",
              "  </svg>\n",
              "      </button>\n",
              "      \n",
              "  <style>\n",
              "    .colab-df-container {\n",
              "      display:flex;\n",
              "      flex-wrap:wrap;\n",
              "      gap: 12px;\n",
              "    }\n",
              "\n",
              "    .colab-df-convert {\n",
              "      background-color: #E8F0FE;\n",
              "      border: none;\n",
              "      border-radius: 50%;\n",
              "      cursor: pointer;\n",
              "      display: none;\n",
              "      fill: #1967D2;\n",
              "      height: 32px;\n",
              "      padding: 0 0 0 0;\n",
              "      width: 32px;\n",
              "    }\n",
              "\n",
              "    .colab-df-convert:hover {\n",
              "      background-color: #E2EBFA;\n",
              "      box-shadow: 0px 1px 2px rgba(60, 64, 67, 0.3), 0px 1px 3px 1px rgba(60, 64, 67, 0.15);\n",
              "      fill: #174EA6;\n",
              "    }\n",
              "\n",
              "    [theme=dark] .colab-df-convert {\n",
              "      background-color: #3B4455;\n",
              "      fill: #D2E3FC;\n",
              "    }\n",
              "\n",
              "    [theme=dark] .colab-df-convert:hover {\n",
              "      background-color: #434B5C;\n",
              "      box-shadow: 0px 1px 3px 1px rgba(0, 0, 0, 0.15);\n",
              "      filter: drop-shadow(0px 1px 2px rgba(0, 0, 0, 0.3));\n",
              "      fill: #FFFFFF;\n",
              "    }\n",
              "  </style>\n",
              "\n",
              "      <script>\n",
              "        const buttonEl =\n",
              "          document.querySelector('#df-4f477566-6436-443c-bf2e-9fc5f502b17f button.colab-df-convert');\n",
              "        buttonEl.style.display =\n",
              "          google.colab.kernel.accessAllowed ? 'block' : 'none';\n",
              "\n",
              "        async function convertToInteractive(key) {\n",
              "          const element = document.querySelector('#df-4f477566-6436-443c-bf2e-9fc5f502b17f');\n",
              "          const dataTable =\n",
              "            await google.colab.kernel.invokeFunction('convertToInteractive',\n",
              "                                                     [key], {});\n",
              "          if (!dataTable) return;\n",
              "\n",
              "          const docLinkHtml = 'Like what you see? Visit the ' +\n",
              "            '<a target=\"_blank\" href=https://colab.research.google.com/notebooks/data_table.ipynb>data table notebook</a>'\n",
              "            + ' to learn more about interactive tables.';\n",
              "          element.innerHTML = '';\n",
              "          dataTable['output_type'] = 'display_data';\n",
              "          await google.colab.output.renderOutput(dataTable, element);\n",
              "          const docLink = document.createElement('div');\n",
              "          docLink.innerHTML = docLinkHtml;\n",
              "          element.appendChild(docLink);\n",
              "        }\n",
              "      </script>\n",
              "    </div>\n",
              "  </div>\n",
              "  "
            ]
          },
          "metadata": {},
          "execution_count": 25
        }
      ]
    },
    {
      "cell_type": "code",
      "source": [
        "sum(df['name'] == 'Hu Tao')"
      ],
      "metadata": {
        "id": "j743o8CyDpF7",
        "colab": {
          "base_uri": "https://localhost:8080/"
        },
        "outputId": "fe546d58-624b-4401-c91d-9ba3f24de102"
      },
      "execution_count": null,
      "outputs": [
        {
          "output_type": "execute_result",
          "data": {
            "text/plain": [
              "163"
            ]
          },
          "metadata": {},
          "execution_count": 39
        }
      ]
    },
    {
      "cell_type": "code",
      "source": [
        "len(df)"
      ],
      "metadata": {
        "id": "j9aSGgitD0Dc",
        "colab": {
          "base_uri": "https://localhost:8080/"
        },
        "outputId": "cfd6adfd-c9a0-4e13-b66d-c97e3e2adee7"
      },
      "execution_count": null,
      "outputs": [
        {
          "output_type": "execute_result",
          "data": {
            "text/plain": [
              "163"
            ]
          },
          "metadata": {},
          "execution_count": 40
        }
      ]
    },
    {
      "cell_type": "code",
      "source": [
        "df.to_csv('hu_tao.csv', index=False)"
      ],
      "metadata": {
        "id": "y5XGvUW6D1vF"
      },
      "execution_count": null,
      "outputs": []
    }
  ]
}